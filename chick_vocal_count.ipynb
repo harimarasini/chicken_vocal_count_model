{
  "nbformat": 4,
  "nbformat_minor": 0,
  "metadata": {
    "colab": {
      "provenance": []
    },
    "kernelspec": {
      "name": "python3",
      "display_name": "Python 3"
    },
    "language_info": {
      "name": "python"
    }
  },
  "cells": [
    {
      "cell_type": "code",
      "execution_count": 2,
      "metadata": {
        "colab": {
          "base_uri": "https://localhost:8080/"
        },
        "id": "6f6GDevaqMM_",
        "outputId": "2686a380-1eb2-4c05-b0da-78385aa62df1"
      },
      "outputs": [
        {
          "output_type": "stream",
          "name": "stdout",
          "text": [
            "Collecting pydub\n",
            "  Downloading pydub-0.25.1-py2.py3-none-any.whl (32 kB)\n",
            "Installing collected packages: pydub\n",
            "Successfully installed pydub-0.25.1\n"
          ]
        }
      ],
      "source": [
        "pip install pydub\n"
      ]
    },
    {
      "cell_type": "code",
      "source": [],
      "metadata": {
        "id": "jZx1cG3OHVjy"
      },
      "execution_count": null,
      "outputs": []
    },
    {
      "cell_type": "code",
      "source": [
        "from pydub import AudioSegment\n",
        "\n",
        "def count_chicken_vocalizations(audio_file_path):\n",
        "    # Load the audio file\n",
        "    audio = AudioSegment.from_file(audio_file_path)\n",
        "\n",
        "    # Set a threshold for volume (adjust as needed)\n",
        "    threshold = -30\n",
        "\n",
        "    # Segment duration in milliseconds\n",
        "    segment_duration = 500  # 500 milliseconds (0.5 seconds)\n",
        "\n",
        "    # Count the number of vocalizations in each segment\n",
        "    vocalizations = 0\n",
        "\n",
        "    for i in range(0, len(audio), segment_duration):\n",
        "        segment = audio[i:i + segment_duration]\n",
        "        if segment.dBFS > threshold:\n",
        "            vocalizations += 1\n",
        "\n",
        "    # Print the total count\n",
        "    print(\"Number of chicken vocalizations:\", vocalizations)\n",
        "\n",
        "if __name__ == \"__main__\":\n",
        "    # Replace 'your_audio_file.wav' with the path to your audio file\n",
        "    count_chicken_vocalizations('chickd3p1.wav')\n"
      ],
      "metadata": {
        "colab": {
          "base_uri": "https://localhost:8080/"
        },
        "id": "T8owy2qMqSOv",
        "outputId": "c84f941b-a73b-4a60-c967-105c473486f8"
      },
      "execution_count": 10,
      "outputs": [
        {
          "output_type": "stream",
          "name": "stdout",
          "text": [
            "Number of chicken vocalizations: 136\n"
          ]
        }
      ]
    },
    {
      "cell_type": "code",
      "source": [
        ""
      ],
      "metadata": {
        "id": "NmZM1y4Muwbo"
      },
      "execution_count": null,
      "outputs": []
    }
  ]
}